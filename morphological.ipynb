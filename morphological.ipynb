{
 "cells": [
  {
   "cell_type": "code",
   "execution_count": null,
   "id": "6ade1b6c-1841-40b5-8911-378bd2a1322f",
   "metadata": {},
   "outputs": [],
   "source": [
    "import skimage.io as sio\n",
    "import skimage.color as sic\n",
    "import skimage.feature as skf\n",
    "import skimage.morphology as skm\n",
    "\n",
    "import numpy as np\n",
    "\n",
    "from matplotlib.pyplot import figure, show, imshow\n"
   ]
  },
  {
   "cell_type": "code",
   "execution_count": null,
   "id": "963fabce-5eaa-459d-9f13-df72ab08cc24",
   "metadata": {},
   "outputs": [],
   "source": [
    "f = '~/Downloads/segmented.png'\n",
    "im = sio.imread(f)\n",
    "\n",
    "imshow(im)\n",
    "print(im.dtype)\n",
    "print(im.shape)\n"
   ]
  },
  {
   "cell_type": "code",
   "execution_count": null,
   "id": "3290b300-bc44-4900-8fef-df92f69a0ce7",
   "metadata": {},
   "outputs": [],
   "source": [
    "ser = skm.rectangle(3,15)\n",
    "\n",
    "skd = skm.disk(6)\n",
    "\n",
    "ims = skm.erosion(im, skd)\n",
    "imshow(ims)\n",
    "\n",
    "imr = skm.dilation(ims, ser)\n",
    "figure()\n",
    "imshow(imr)"
   ]
  },
  {
   "cell_type": "code",
   "execution_count": null,
   "id": "947aaad2-f1ac-4da0-a8be-6b26a409e4bb",
   "metadata": {},
   "outputs": [],
   "source": [
    "log = skf.blob_log(ims, min_sigma=20, max_sigma=250, num_sigma=10, threshold=0.2, exclude_border=False)\n",
    "print(log)"
   ]
  },
  {
   "cell_type": "code",
   "execution_count": null,
   "id": "0194a1b7-5237-4740-8a62-8342f953adfe",
   "metadata": {},
   "outputs": [],
   "source": [
    "print(np.unique(im))"
   ]
  },
  {
   "cell_type": "code",
   "execution_count": null,
   "id": "510d273e-586e-4fee-a9c2-1818bde7a2f1",
   "metadata": {},
   "outputs": [],
   "source": []
  }
 ],
 "metadata": {
  "kernelspec": {
   "display_name": "Python 3 (ipykernel)",
   "language": "python",
   "name": "python3"
  },
  "language_info": {
   "codemirror_mode": {
    "name": "ipython",
    "version": 3
   },
   "file_extension": ".py",
   "mimetype": "text/x-python",
   "name": "python",
   "nbconvert_exporter": "python",
   "pygments_lexer": "ipython3",
   "version": "3.12.1"
  }
 },
 "nbformat": 4,
 "nbformat_minor": 5
}
