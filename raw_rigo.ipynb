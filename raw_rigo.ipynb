{
 "cells": [
  {
   "cell_type": "code",
   "execution_count": null,
   "id": "5ee515dd-fe3a-4b60-8c4f-59b63c16fcab",
   "metadata": {},
   "outputs": [],
   "source": [
    "import skimage.io as sio\n",
    "import skimage.color as sic\n",
    "import skimage.exposure as ske\n",
    "import skimage.morphology as skm\n",
    "import skimage.filters as skf\n",
    "\n",
    "import numpy as np\n",
    "import scipy.ndimage as scn\n",
    "from matplotlib.pyplot import figure, show, imshow\n",
    "import matplotlib.colors as mpc"
   ]
  },
  {
   "cell_type": "code",
   "execution_count": null,
   "id": "570d3b5d-db4a-43a3-a3e3-516df6b468f5",
   "metadata": {},
   "outputs": [],
   "source": [
    "f = '~/Downloads/rigo.png'\n",
    "im = sio.imread(f)\n",
    "xc = 65\n",
    "yc = 65\n",
    "im = im[yc:-yc, xc:-xc]\n",
    "gray = sic.rgb2gray(im)\n",
    "imshow(gray, cmap='gray', norm=mpc.LogNorm())"
   ]
  },
  {
   "cell_type": "code",
   "execution_count": null,
   "id": "f1a8a832-8f43-4159-9552-b4ef0c797d23",
   "metadata": {},
   "outputs": [],
   "source": [
    "#imf = scn.convolve(gray, k, mode='nearest')\n",
    "starf = skm.disk(1)\n",
    "\n",
    "eroded = skm.erosion(gray, sk)\n",
    "imshow(eroded, cmap='gray', norm=mpc.LogNorm())"
   ]
  },
  {
   "cell_type": "code",
   "execution_count": null,
   "id": "45995466-aae3-4e26-888d-9b163e084ecc",
   "metadata": {},
   "outputs": [],
   "source": [
    "filled = skm.dilation(eroded, sk)\n",
    "imshow(filled, cmap='gray', norm=mpc.LogNorm())"
   ]
  },
  {
   "cell_type": "code",
   "execution_count": null,
   "id": "6b2d127d-94ba-424b-a631-81d408158fdd",
   "metadata": {},
   "outputs": [],
   "source": [
    "trunc_width = 15\n",
    "mask = np.ones_like(binary)\n",
    "mask[:trunc_width, :] = 0\n",
    "mask[:, :trunc_width] = 0\n",
    "mask[-trunc_width:, :] = 0\n",
    "mask[:, -trunc_width:] = 0"
   ]
  },
  {
   "cell_type": "code",
   "execution_count": null,
   "id": "ceb21327-875f-4b0a-b749-383f528b97e5",
   "metadata": {},
   "outputs": [],
   "source": [
    "equalized = ske.equalize_hist(eroded, mask=mask)\n",
    "imshow(equalized)"
   ]
  },
  {
   "cell_type": "code",
   "execution_count": null,
   "id": "db547dde-f371-41b3-beb4-038eaeb1a3ac",
   "metadata": {},
   "outputs": [],
   "source": [
    "thres = skf.threshold_otsu(equalized)\n",
    "binary = eroded > thres\n",
    "imshow(binary)"
   ]
  },
  {
   "cell_type": "code",
   "execution_count": null,
   "id": "1bb538e2-cfb2-4b3c-85f5-bf967699e860",
   "metadata": {},
   "outputs": [],
   "source": [
    "trunc = binary*mask\n",
    "imshow(trunc)"
   ]
  },
  {
   "cell_type": "code",
   "execution_count": null,
   "id": "6bfb17f7-b1a2-47f0-8b5e-c06297fb149e",
   "metadata": {},
   "outputs": [],
   "source": [
    "ser = skm.rectangle(2,6)\n",
    "\n",
    "imr = skm.dilation(imf, ser)\n",
    "imshow(imr)"
   ]
  },
  {
   "cell_type": "code",
   "execution_count": null,
   "id": "1d251d79-0739-4603-b21a-5c2b9dab8f3c",
   "metadata": {},
   "outputs": [],
   "source": [
    "fg = figure()\n",
    "ax = fg.gca()\n",
    "ax.imshow(imf, cmap='gray')\n",
    "\n",
    "fg2 = figure()\n",
    "ax2 = fg2.gca()\n",
    "ax2.imshow(gray, cmap='gray')\n",
    "\n",
    "show()"
   ]
  },
  {
   "cell_type": "code",
   "execution_count": null,
   "id": "1639a603-6f02-4f53-9470-ce7003ff97ff",
   "metadata": {},
   "outputs": [],
   "source": []
  },
  {
   "cell_type": "code",
   "execution_count": null,
   "id": "ea30883e-0242-4fbe-88c8-d26315203e82",
   "metadata": {},
   "outputs": [],
   "source": []
  }
 ],
 "metadata": {
  "kernelspec": {
   "display_name": "Python 3 (ipykernel)",
   "language": "python",
   "name": "python3"
  },
  "language_info": {
   "codemirror_mode": {
    "name": "ipython",
    "version": 3
   },
   "file_extension": ".py",
   "mimetype": "text/x-python",
   "name": "python",
   "nbconvert_exporter": "python",
   "pygments_lexer": "ipython3",
   "version": "3.12.1"
  }
 },
 "nbformat": 4,
 "nbformat_minor": 5
}
